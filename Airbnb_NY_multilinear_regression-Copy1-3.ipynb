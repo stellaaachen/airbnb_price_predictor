{
 "cells": [
  {
   "cell_type": "code",
   "execution_count": 1,
   "id": "73c264c4",
   "metadata": {},
   "outputs": [],
   "source": [
    "import numpy as np\n",
    "from scipy.optimize import curve_fit\n",
    "import pylab\n",
    "import math\n",
    "import pandas as pd\n",
    "import matplotlib.pyplot as plt\n",
    "import seaborn as sns\n",
    "from sklearn.linear_model import LogisticRegression\n",
    "from sklearn.metrics import accuracy_score, confusion_matrix\n",
    "import scipy.stats\n",
    "from sklearn import metrics\n",
    "import tensorflow as tf\n",
    "import seaborn as sns\n"
   ]
  },
  {
   "cell_type": "code",
   "execution_count": 2,
   "id": "a455796c",
   "metadata": {},
   "outputs": [],
   "source": [
    "import warnings\n",
    "warnings.filterwarnings('ignore')"
   ]
  },
  {
   "cell_type": "markdown",
   "id": "be21553d",
   "metadata": {},
   "source": [
    "**Data Cleaning**"
   ]
  },
  {
   "cell_type": "code",
   "execution_count": 4,
   "id": "59c38bed",
   "metadata": {},
   "outputs": [],
   "source": [
    "listings = pd.read_csv(\"listings.csv\")"
   ]
  },
  {
   "cell_type": "code",
   "execution_count": 5,
   "id": "1f5023a1",
   "metadata": {},
   "outputs": [],
   "source": [
    "review = pd.read_csv(\"reviews_2.csv\")"
   ]
  },
  {
   "cell_type": "code",
   "execution_count": 6,
   "id": "b923320d",
   "metadata": {},
   "outputs": [
    {
     "data": {
      "text/plain": [
       "neighbourhood                   0\n",
       "neighbourhood_cleansed          0\n",
       "neighbourhood_group_cleansed    0\n",
       "latitude                        0\n",
       "longitude                       0\n",
       "property_type                   0\n",
       "room_type                       0\n",
       "accommodates                    0\n",
       "bathrooms_text                  0\n",
       "bedrooms                        0\n",
       "beds                            0\n",
       "price                           0\n",
       "minimum_nights                  0\n",
       "maximum_nights                  0\n",
       "minimum_minimum_nights          0\n",
       "maximum_minimum_nights          0\n",
       "minimum_maximum_nights          0\n",
       "maximum_maximum_nights          0\n",
       "minimum_nights_avg_ntm          0\n",
       "maximum_nights_avg_ntm          0\n",
       "availability_30                 0\n",
       "availability_60                 0\n",
       "availability_90                 0\n",
       "availability_365                0\n",
       "number_of_reviews               0\n",
       "number_of_reviews_ltm           0\n",
       "number_of_reviews_l30d          0\n",
       "dtype: int64"
      ]
     },
     "execution_count": 6,
     "metadata": {},
     "output_type": "execute_result"
    }
   ],
   "source": [
    "listings.drop(columns=['id', 'listing_url', 'scrape_id', 'last_scraped', 'source', 'name',\n",
    "       'description', 'neighborhood_overview', 'picture_url', 'host_id',\n",
    "       'host_url', 'host_name', 'host_since', 'host_location', 'host_about',\n",
    "       'host_response_time', 'host_response_rate', 'host_acceptance_rate',\n",
    "       'host_is_superhost', 'host_thumbnail_url', 'host_picture_url',\n",
    "       'host_neighbourhood', 'host_listings_count',\n",
    "       'host_total_listings_count', 'host_verifications',\n",
    "       'host_has_profile_pic', 'host_identity_verified',\n",
    "       'amenities', 'calendar_updated', 'has_availability', 'calendar_last_scraped', 'first_review',\n",
    "       'last_review', 'license', 'instant_bookable',\n",
    "       'calculated_host_listings_count',\n",
    "       'calculated_host_listings_count_entire_homes',\n",
    "       'calculated_host_listings_count_private_rooms',\n",
    "       'calculated_host_listings_count_shared_rooms'\n",
    "       ], inplace=True)\n",
    "\n",
    "listings.drop(columns=['review_scores_rating','review_scores_accuracy','review_scores_cleanliness','review_scores_checkin','review_scores_communication','review_scores_location','review_scores_value','reviews_per_month','bathrooms'], inplace=True)\n",
    "listings.dropna(inplace=True)\n",
    "listings.isnull().sum()"
   ]
  },
  {
   "cell_type": "code",
   "execution_count": 7,
   "id": "24596bbb",
   "metadata": {},
   "outputs": [],
   "source": [
    "def convert(text):\n",
    "    if text[0].isnumeric():\n",
    "        return float(text.split(\" \")[0])\n",
    "    else:\n",
    "        return 1.0    #\"shared\"\n",
    "listings[\"bathrooms\"] = listings[\"bathrooms_text\"].apply(convert)\n",
    "listings.drop(columns='bathrooms_text', inplace=True)"
   ]
  },
  {
   "cell_type": "code",
   "execution_count": 8,
   "id": "b04f5018",
   "metadata": {},
   "outputs": [],
   "source": [
    "#cast price into float\n",
    "listings[\"price\"] = listings[\"price\"].str[1:].str.replace(\",\",\"\").astype(\"float\")\n",
    "listings = listings[listings.price < 1000]\n",
    "\n",
    "listings_clean = listings.copy()\n",
    "listings_clean.reset_index(inplace=True)\n",
    "listings_clean.drop(columns='index', inplace=True)\n"
   ]
  },
  {
   "cell_type": "code",
   "execution_count": 9,
   "id": "43b71461",
   "metadata": {},
   "outputs": [
    {
     "data": {
      "text/html": [
       "<div>\n",
       "<style scoped>\n",
       "    .dataframe tbody tr th:only-of-type {\n",
       "        vertical-align: middle;\n",
       "    }\n",
       "\n",
       "    .dataframe tbody tr th {\n",
       "        vertical-align: top;\n",
       "    }\n",
       "\n",
       "    .dataframe thead th {\n",
       "        text-align: right;\n",
       "    }\n",
       "</style>\n",
       "<table border=\"1\" class=\"dataframe\">\n",
       "  <thead>\n",
       "    <tr style=\"text-align: right;\">\n",
       "      <th></th>\n",
       "      <th>neighbourhood</th>\n",
       "      <th>neighbourhood_group_cleansed</th>\n",
       "      <th>latitude</th>\n",
       "      <th>longitude</th>\n",
       "      <th>accommodates</th>\n",
       "      <th>bedrooms</th>\n",
       "      <th>beds</th>\n",
       "      <th>price</th>\n",
       "      <th>minimum_nights</th>\n",
       "      <th>maximum_nights</th>\n",
       "      <th>...</th>\n",
       "      <th>pt_Shared room in guesthouse</th>\n",
       "      <th>pt_Shared room in home</th>\n",
       "      <th>pt_Shared room in loft</th>\n",
       "      <th>pt_Shared room in rental unit</th>\n",
       "      <th>pt_Shared room in serviced apartment</th>\n",
       "      <th>pt_Shared room in townhouse</th>\n",
       "      <th>pt_Tiny home</th>\n",
       "      <th>rt_Hotel room</th>\n",
       "      <th>rt_Private room</th>\n",
       "      <th>rt_Shared room</th>\n",
       "    </tr>\n",
       "  </thead>\n",
       "  <tbody>\n",
       "    <tr>\n",
       "      <th>0</th>\n",
       "      <td>The Bronx, New York, United States</td>\n",
       "      <td>Bronx</td>\n",
       "      <td>40.903260</td>\n",
       "      <td>-73.907090</td>\n",
       "      <td>3</td>\n",
       "      <td>2.0</td>\n",
       "      <td>2.0</td>\n",
       "      <td>125.0</td>\n",
       "      <td>3</td>\n",
       "      <td>21</td>\n",
       "      <td>...</td>\n",
       "      <td>0</td>\n",
       "      <td>0</td>\n",
       "      <td>0</td>\n",
       "      <td>0</td>\n",
       "      <td>0</td>\n",
       "      <td>0</td>\n",
       "      <td>0</td>\n",
       "      <td>0</td>\n",
       "      <td>0</td>\n",
       "      <td>0</td>\n",
       "    </tr>\n",
       "    <tr>\n",
       "      <th>1</th>\n",
       "      <td>Queens, New York, United States</td>\n",
       "      <td>Queens</td>\n",
       "      <td>40.763500</td>\n",
       "      <td>-73.826080</td>\n",
       "      <td>3</td>\n",
       "      <td>1.0</td>\n",
       "      <td>1.0</td>\n",
       "      <td>63.0</td>\n",
       "      <td>2</td>\n",
       "      <td>365</td>\n",
       "      <td>...</td>\n",
       "      <td>0</td>\n",
       "      <td>0</td>\n",
       "      <td>0</td>\n",
       "      <td>0</td>\n",
       "      <td>0</td>\n",
       "      <td>0</td>\n",
       "      <td>0</td>\n",
       "      <td>0</td>\n",
       "      <td>1</td>\n",
       "      <td>0</td>\n",
       "    </tr>\n",
       "    <tr>\n",
       "      <th>2</th>\n",
       "      <td>RIVERDALE, New York, United States</td>\n",
       "      <td>Bronx</td>\n",
       "      <td>40.882320</td>\n",
       "      <td>-73.906210</td>\n",
       "      <td>4</td>\n",
       "      <td>2.0</td>\n",
       "      <td>2.0</td>\n",
       "      <td>115.0</td>\n",
       "      <td>30</td>\n",
       "      <td>1125</td>\n",
       "      <td>...</td>\n",
       "      <td>0</td>\n",
       "      <td>0</td>\n",
       "      <td>0</td>\n",
       "      <td>0</td>\n",
       "      <td>0</td>\n",
       "      <td>0</td>\n",
       "      <td>0</td>\n",
       "      <td>0</td>\n",
       "      <td>0</td>\n",
       "      <td>0</td>\n",
       "    </tr>\n",
       "    <tr>\n",
       "      <th>3</th>\n",
       "      <td>Queens, New York, United States</td>\n",
       "      <td>Queens</td>\n",
       "      <td>40.709585</td>\n",
       "      <td>-73.746119</td>\n",
       "      <td>4</td>\n",
       "      <td>3.0</td>\n",
       "      <td>5.0</td>\n",
       "      <td>179.0</td>\n",
       "      <td>1</td>\n",
       "      <td>1125</td>\n",
       "      <td>...</td>\n",
       "      <td>0</td>\n",
       "      <td>0</td>\n",
       "      <td>0</td>\n",
       "      <td>0</td>\n",
       "      <td>0</td>\n",
       "      <td>0</td>\n",
       "      <td>0</td>\n",
       "      <td>0</td>\n",
       "      <td>0</td>\n",
       "      <td>0</td>\n",
       "    </tr>\n",
       "    <tr>\n",
       "      <th>4</th>\n",
       "      <td>Queens, New York, United States</td>\n",
       "      <td>Queens</td>\n",
       "      <td>40.596000</td>\n",
       "      <td>-73.771140</td>\n",
       "      <td>6</td>\n",
       "      <td>2.0</td>\n",
       "      <td>3.0</td>\n",
       "      <td>380.0</td>\n",
       "      <td>1</td>\n",
       "      <td>1125</td>\n",
       "      <td>...</td>\n",
       "      <td>0</td>\n",
       "      <td>0</td>\n",
       "      <td>0</td>\n",
       "      <td>0</td>\n",
       "      <td>0</td>\n",
       "      <td>0</td>\n",
       "      <td>0</td>\n",
       "      <td>0</td>\n",
       "      <td>0</td>\n",
       "      <td>0</td>\n",
       "    </tr>\n",
       "    <tr>\n",
       "      <th>...</th>\n",
       "      <td>...</td>\n",
       "      <td>...</td>\n",
       "      <td>...</td>\n",
       "      <td>...</td>\n",
       "      <td>...</td>\n",
       "      <td>...</td>\n",
       "      <td>...</td>\n",
       "      <td>...</td>\n",
       "      <td>...</td>\n",
       "      <td>...</td>\n",
       "      <td>...</td>\n",
       "      <td>...</td>\n",
       "      <td>...</td>\n",
       "      <td>...</td>\n",
       "      <td>...</td>\n",
       "      <td>...</td>\n",
       "      <td>...</td>\n",
       "      <td>...</td>\n",
       "      <td>...</td>\n",
       "      <td>...</td>\n",
       "      <td>...</td>\n",
       "    </tr>\n",
       "    <tr>\n",
       "      <th>22074</th>\n",
       "      <td>Brooklyn, New York, United States</td>\n",
       "      <td>Brooklyn</td>\n",
       "      <td>40.698330</td>\n",
       "      <td>-73.932630</td>\n",
       "      <td>1</td>\n",
       "      <td>1.0</td>\n",
       "      <td>1.0</td>\n",
       "      <td>50.0</td>\n",
       "      <td>30</td>\n",
       "      <td>31</td>\n",
       "      <td>...</td>\n",
       "      <td>0</td>\n",
       "      <td>0</td>\n",
       "      <td>0</td>\n",
       "      <td>0</td>\n",
       "      <td>0</td>\n",
       "      <td>0</td>\n",
       "      <td>0</td>\n",
       "      <td>0</td>\n",
       "      <td>1</td>\n",
       "      <td>0</td>\n",
       "    </tr>\n",
       "    <tr>\n",
       "      <th>22075</th>\n",
       "      <td>Brooklyn, New York, United States</td>\n",
       "      <td>Brooklyn</td>\n",
       "      <td>40.675660</td>\n",
       "      <td>-73.965490</td>\n",
       "      <td>2</td>\n",
       "      <td>1.0</td>\n",
       "      <td>1.0</td>\n",
       "      <td>74.0</td>\n",
       "      <td>30</td>\n",
       "      <td>1125</td>\n",
       "      <td>...</td>\n",
       "      <td>0</td>\n",
       "      <td>0</td>\n",
       "      <td>0</td>\n",
       "      <td>0</td>\n",
       "      <td>0</td>\n",
       "      <td>0</td>\n",
       "      <td>0</td>\n",
       "      <td>0</td>\n",
       "      <td>1</td>\n",
       "      <td>0</td>\n",
       "    </tr>\n",
       "    <tr>\n",
       "      <th>22076</th>\n",
       "      <td>Staten Island, New York, United States</td>\n",
       "      <td>Staten Island</td>\n",
       "      <td>40.579550</td>\n",
       "      <td>-74.110330</td>\n",
       "      <td>1</td>\n",
       "      <td>1.0</td>\n",
       "      <td>1.0</td>\n",
       "      <td>33.0</td>\n",
       "      <td>30</td>\n",
       "      <td>1125</td>\n",
       "      <td>...</td>\n",
       "      <td>0</td>\n",
       "      <td>0</td>\n",
       "      <td>0</td>\n",
       "      <td>0</td>\n",
       "      <td>0</td>\n",
       "      <td>0</td>\n",
       "      <td>0</td>\n",
       "      <td>0</td>\n",
       "      <td>1</td>\n",
       "      <td>0</td>\n",
       "    </tr>\n",
       "    <tr>\n",
       "      <th>22077</th>\n",
       "      <td>New York, United States</td>\n",
       "      <td>Manhattan</td>\n",
       "      <td>40.778103</td>\n",
       "      <td>-73.985179</td>\n",
       "      <td>12</td>\n",
       "      <td>4.0</td>\n",
       "      <td>9.0</td>\n",
       "      <td>857.0</td>\n",
       "      <td>4</td>\n",
       "      <td>365</td>\n",
       "      <td>...</td>\n",
       "      <td>0</td>\n",
       "      <td>0</td>\n",
       "      <td>0</td>\n",
       "      <td>0</td>\n",
       "      <td>0</td>\n",
       "      <td>0</td>\n",
       "      <td>0</td>\n",
       "      <td>0</td>\n",
       "      <td>0</td>\n",
       "      <td>0</td>\n",
       "    </tr>\n",
       "    <tr>\n",
       "      <th>22078</th>\n",
       "      <td>New York, United States</td>\n",
       "      <td>Manhattan</td>\n",
       "      <td>40.763187</td>\n",
       "      <td>-73.992472</td>\n",
       "      <td>1</td>\n",
       "      <td>1.0</td>\n",
       "      <td>1.0</td>\n",
       "      <td>68.0</td>\n",
       "      <td>50</td>\n",
       "      <td>120</td>\n",
       "      <td>...</td>\n",
       "      <td>0</td>\n",
       "      <td>0</td>\n",
       "      <td>0</td>\n",
       "      <td>0</td>\n",
       "      <td>0</td>\n",
       "      <td>0</td>\n",
       "      <td>0</td>\n",
       "      <td>0</td>\n",
       "      <td>1</td>\n",
       "      <td>0</td>\n",
       "    </tr>\n",
       "  </tbody>\n",
       "</table>\n",
       "<p>22079 rows × 300 columns</p>\n",
       "</div>"
      ],
      "text/plain": [
       "                                neighbourhood neighbourhood_group_cleansed  \\\n",
       "0          The Bronx, New York, United States                        Bronx   \n",
       "1             Queens, New York, United States                       Queens   \n",
       "2          RIVERDALE, New York, United States                        Bronx   \n",
       "3             Queens, New York, United States                       Queens   \n",
       "4             Queens, New York, United States                       Queens   \n",
       "...                                       ...                          ...   \n",
       "22074       Brooklyn, New York, United States                     Brooklyn   \n",
       "22075       Brooklyn, New York, United States                     Brooklyn   \n",
       "22076  Staten Island, New York, United States                Staten Island   \n",
       "22077                 New York, United States                    Manhattan   \n",
       "22078                 New York, United States                    Manhattan   \n",
       "\n",
       "        latitude  longitude  accommodates  bedrooms  beds  price  \\\n",
       "0      40.903260 -73.907090             3       2.0   2.0  125.0   \n",
       "1      40.763500 -73.826080             3       1.0   1.0   63.0   \n",
       "2      40.882320 -73.906210             4       2.0   2.0  115.0   \n",
       "3      40.709585 -73.746119             4       3.0   5.0  179.0   \n",
       "4      40.596000 -73.771140             6       2.0   3.0  380.0   \n",
       "...          ...        ...           ...       ...   ...    ...   \n",
       "22074  40.698330 -73.932630             1       1.0   1.0   50.0   \n",
       "22075  40.675660 -73.965490             2       1.0   1.0   74.0   \n",
       "22076  40.579550 -74.110330             1       1.0   1.0   33.0   \n",
       "22077  40.778103 -73.985179            12       4.0   9.0  857.0   \n",
       "22078  40.763187 -73.992472             1       1.0   1.0   68.0   \n",
       "\n",
       "       minimum_nights  maximum_nights  ...  pt_Shared room in guesthouse  \\\n",
       "0                   3              21  ...                             0   \n",
       "1                   2             365  ...                             0   \n",
       "2                  30            1125  ...                             0   \n",
       "3                   1            1125  ...                             0   \n",
       "4                   1            1125  ...                             0   \n",
       "...               ...             ...  ...                           ...   \n",
       "22074              30              31  ...                             0   \n",
       "22075              30            1125  ...                             0   \n",
       "22076              30            1125  ...                             0   \n",
       "22077               4             365  ...                             0   \n",
       "22078              50             120  ...                             0   \n",
       "\n",
       "       pt_Shared room in home  pt_Shared room in loft  \\\n",
       "0                           0                       0   \n",
       "1                           0                       0   \n",
       "2                           0                       0   \n",
       "3                           0                       0   \n",
       "4                           0                       0   \n",
       "...                       ...                     ...   \n",
       "22074                       0                       0   \n",
       "22075                       0                       0   \n",
       "22076                       0                       0   \n",
       "22077                       0                       0   \n",
       "22078                       0                       0   \n",
       "\n",
       "       pt_Shared room in rental unit  pt_Shared room in serviced apartment  \\\n",
       "0                                  0                                     0   \n",
       "1                                  0                                     0   \n",
       "2                                  0                                     0   \n",
       "3                                  0                                     0   \n",
       "4                                  0                                     0   \n",
       "...                              ...                                   ...   \n",
       "22074                              0                                     0   \n",
       "22075                              0                                     0   \n",
       "22076                              0                                     0   \n",
       "22077                              0                                     0   \n",
       "22078                              0                                     0   \n",
       "\n",
       "       pt_Shared room in townhouse  pt_Tiny home  rt_Hotel room  \\\n",
       "0                                0             0              0   \n",
       "1                                0             0              0   \n",
       "2                                0             0              0   \n",
       "3                                0             0              0   \n",
       "4                                0             0              0   \n",
       "...                            ...           ...            ...   \n",
       "22074                            0             0              0   \n",
       "22075                            0             0              0   \n",
       "22076                            0             0              0   \n",
       "22077                            0             0              0   \n",
       "22078                            0             0              0   \n",
       "\n",
       "       rt_Private room  rt_Shared room  \n",
       "0                    0               0  \n",
       "1                    1               0  \n",
       "2                    0               0  \n",
       "3                    0               0  \n",
       "4                    0               0  \n",
       "...                ...             ...  \n",
       "22074                1               0  \n",
       "22075                1               0  \n",
       "22076                1               0  \n",
       "22077                0               0  \n",
       "22078                1               0  \n",
       "\n",
       "[22079 rows x 300 columns]"
      ]
     },
     "execution_count": 9,
     "metadata": {},
     "output_type": "execute_result"
    }
   ],
   "source": [
    "listings_clean = pd.get_dummies(data=listings_clean, prefix=['nbh', 'pt', 'rt'], columns=['neighbourhood_cleansed', 'property_type', 'room_type'], drop_first=True)\n",
    "listings_clean\n",
    "\n"
   ]
  },
  {
   "cell_type": "markdown",
   "id": "c3d81d89",
   "metadata": {},
   "source": [
    "## Multi Linear Regression(Lasso, Ridge)"
   ]
  },
  {
   "cell_type": "code",
   "execution_count": 67,
   "id": "ee8a071b",
   "metadata": {},
   "outputs": [],
   "source": [
    "from sklearn.model_selection import train_test_split\n",
    "from sklearn.metrics import mean_absolute_error\n",
    "from sklearn.linear_model import LinearRegression, Lasso, Ridge"
   ]
  },
  {
   "cell_type": "code",
   "execution_count": 109,
   "id": "ae904627",
   "metadata": {},
   "outputs": [],
   "source": [
    "df = listings_clean\n",
    "X = df.drop(['price',\"neighbourhood\",\"neighbourhood_group_cleansed\",\"latitude\",\"longitude\"], axis=1)\n",
    "y = df['price']\n",
    "X_train, X_test, y_train, y_test = train_test_split(X, y, test_size=0.3, random_state=0)"
   ]
  },
  {
   "cell_type": "code",
   "execution_count": 110,
   "id": "e9fd0249",
   "metadata": {},
   "outputs": [],
   "source": [
    "alphas = np.logspace(-2,2,10)\n",
    "\n",
    "best_lasso_score = float('inf')\n",
    "best_lasso_model = None\n",
    "best_ridge_score = float('inf')\n",
    "best_ridge_model = None\n",
    "lasso_scores = []\n",
    "ridge_scores = []\n",
    "lasso_alpha = float('inf')\n",
    "ridge_alpha = float('inf')\n",
    "\n",
    "\n",
    "for alpha in alphas:\n",
    "    \n",
    "    lasso = Lasso(alpha=alpha)\n",
    "    ridge = Ridge(alpha=alpha)\n",
    "\n",
    "    lasso.fit(X_train, y_train)\n",
    "    ridge.fit(X_train, y_train)\n",
    "\n",
    "    y_pred_lasso = lasso.predict(X_test)\n",
    "    y_pred_ridge = ridge.predict(X_test)\n",
    "\n",
    "    lasso_score = mean_absolute_error(y_test, y_pred_lasso)\n",
    "    ridge_score = mean_absolute_error(y_test, y_pred_ridge)\n",
    "    \n",
    "    lasso_scores.append(lasso_score)\n",
    "    ridge_scores.append(ridge_score)\n",
    "\n",
    "    if lasso_score < best_lasso_score:\n",
    "        lasso_alpha = alpha\n",
    "        best_lasso_score = lasso_score\n",
    "        best_lasso_model = lasso\n",
    "\n",
    "    if ridge_score < best_ridge_score:\n",
    "        ridge_alpha = alpha\n",
    "        best_ridge_score = ridge_score\n",
    "        best_ridge_model = ridge"
   ]
  },
  {
   "cell_type": "code",
   "execution_count": 111,
   "id": "44d36259",
   "metadata": {},
   "outputs": [
    {
     "name": "stdout",
     "output_type": "stream",
     "text": [
      "Best Lasso score: 73.25254009934301\n",
      "Best Ridge score: 73.42215889764748\n",
      "Best Lasso alpha: 0.0774263682681127\n",
      "Best Ridge alpha: 12.915496650148826\n"
     ]
    }
   ],
   "source": [
    "print(\"Best Lasso score:\", best_lasso_score)\n",
    "print(\"Best Ridge score:\", best_ridge_score)\n",
    "print(\"Best Lasso alpha:\", lasso_alpha)\n",
    "print(\"Best Ridge alpha:\", ridge_alpha)"
   ]
  },
  {
   "cell_type": "code",
   "execution_count": 115,
   "id": "e3098926",
   "metadata": {},
   "outputs": [],
   "source": [
    "lasso = Lasso(alpha=lasso_alpha)\n",
    "lasso.fit(X_train, y_train)\n",
    "\n",
    "coefficients = lasso.coef_\n",
    "feature_names = X_train.columns\n",
    "\n",
    "coef_df = pd.DataFrame({'feature': feature_names, 'coefficient': coefficients})\n",
    "coef_df = coef_df[coef_df['coefficient'] != 0]"
   ]
  },
  {
   "cell_type": "code",
   "execution_count": 116,
   "id": "7c3cb3f3",
   "metadata": {},
   "outputs": [],
   "source": [
    "df_sorted = coef_df.iloc[abs(coef_df['coefficient']).argsort()]"
   ]
  },
  {
   "cell_type": "code",
   "execution_count": 120,
   "id": "1912873b",
   "metadata": {},
   "outputs": [
    {
     "data": {
      "text/html": [
       "<div>\n",
       "<style scoped>\n",
       "    .dataframe tbody tr th:only-of-type {\n",
       "        vertical-align: middle;\n",
       "    }\n",
       "\n",
       "    .dataframe tbody tr th {\n",
       "        vertical-align: top;\n",
       "    }\n",
       "\n",
       "    .dataframe thead th {\n",
       "        text-align: right;\n",
       "    }\n",
       "</style>\n",
       "<table border=\"1\" class=\"dataframe\">\n",
       "  <thead>\n",
       "    <tr style=\"text-align: right;\">\n",
       "      <th></th>\n",
       "      <th>feature</th>\n",
       "      <th>coefficient</th>\n",
       "    </tr>\n",
       "  </thead>\n",
       "  <tbody>\n",
       "    <tr>\n",
       "      <th>193</th>\n",
       "      <td>nbh_SoHo</td>\n",
       "      <td>127.389362</td>\n",
       "    </tr>\n",
       "    <tr>\n",
       "      <th>223</th>\n",
       "      <td>nbh_West Village</td>\n",
       "      <td>132.229290</td>\n",
       "    </tr>\n",
       "    <tr>\n",
       "      <th>206</th>\n",
       "      <td>nbh_Theater District</td>\n",
       "      <td>135.814636</td>\n",
       "    </tr>\n",
       "    <tr>\n",
       "      <th>243</th>\n",
       "      <td>pt_Entire home/apt</td>\n",
       "      <td>136.290972</td>\n",
       "    </tr>\n",
       "    <tr>\n",
       "      <th>280</th>\n",
       "      <td>pt_Room in hotel</td>\n",
       "      <td>143.967198</td>\n",
       "    </tr>\n",
       "    <tr>\n",
       "      <th>247</th>\n",
       "      <td>pt_Entire serviced apartment</td>\n",
       "      <td>155.541757</td>\n",
       "    </tr>\n",
       "    <tr>\n",
       "      <th>212</th>\n",
       "      <td>nbh_Tribeca</td>\n",
       "      <td>201.851567</td>\n",
       "    </tr>\n",
       "    <tr>\n",
       "      <th>271</th>\n",
       "      <td>pt_Private room in resort</td>\n",
       "      <td>268.441614</td>\n",
       "    </tr>\n",
       "  </tbody>\n",
       "</table>\n",
       "</div>"
      ],
      "text/plain": [
       "                          feature  coefficient\n",
       "193                      nbh_SoHo   127.389362\n",
       "223              nbh_West Village   132.229290\n",
       "206          nbh_Theater District   135.814636\n",
       "243            pt_Entire home/apt   136.290972\n",
       "280              pt_Room in hotel   143.967198\n",
       "247  pt_Entire serviced apartment   155.541757\n",
       "212                   nbh_Tribeca   201.851567\n",
       "271     pt_Private room in resort   268.441614"
      ]
     },
     "execution_count": 120,
     "metadata": {},
     "output_type": "execute_result"
    }
   ],
   "source": [
    "df_sorted.tail(8)"
   ]
  },
  {
   "cell_type": "code",
   "execution_count": 26,
   "id": "bcc131c6",
   "metadata": {},
   "outputs": [
    {
     "data": {
      "image/png": "[encoded data removed]",
      "text/plain": [
       "<Figure size 640x480 with 1 Axes>"
      ]
     },
     "metadata": {},
     "output_type": "display_data"
    }
   ],
   "source": [
    "plt.semilogx(alphas, lasso_scores, label='Lasso')\n",
    "plt.semilogx(alphas, ridge_scores, label='Ridge')\n",
    "plt.xlabel('Alpha')\n",
    "plt.ylabel('Mean Absolute Error')\n",
    "plt.legend()\n",
    "plt.show()"
   ]
  },
  {
   "cell_type": "markdown",
   "id": "b5026299",
   "metadata": {},
   "source": [
    "## regression tree"
   ]
  },
  {
   "cell_type": "code",
   "execution_count": 28,
   "id": "b0b4d31a",
   "metadata": {},
   "outputs": [],
   "source": [
    "from sklearn.tree import DecisionTreeRegressor"
   ]
  },
  {
   "cell_type": "code",
   "execution_count": 122,
   "id": "0b3fc28f",
   "metadata": {},
   "outputs": [
    {
     "name": "stdout",
     "output_type": "stream",
     "text": [
      "Mean absolute error: 63.04\n"
     ]
    }
   ],
   "source": [
    "model = DecisionTreeRegressor(random_state=42)\n",
    "\n",
    "model.fit(X_train, y_train)\n",
    "\n",
    "y_pred = model.predict(X_test)\n",
    "\n",
    "mae = mean_absolute_error(y_test, y_pred)\n",
    "\n",
    "print(\"Mean absolute error: {:.2f}\".format(mae))"
   ]
  },
  {
   "cell_type": "code",
   "execution_count": 125,
   "id": "013085e1",
   "metadata": {},
   "outputs": [],
   "source": [
    "feature_importances = pd.DataFrame({'feature': X_train.columns, 'importance': model.feature_importances_})\n",
    "feature_importances = feature_importances.sort_values('importance', ascending=False)"
   ]
  },
  {
   "cell_type": "code",
   "execution_count": 131,
   "id": "9c525bdf",
   "metadata": {},
   "outputs": [
    {
     "data": {
      "text/html": [
       "<div>\n",
       "<style scoped>\n",
       "    .dataframe tbody tr th:only-of-type {\n",
       "        vertical-align: middle;\n",
       "    }\n",
       "\n",
       "    .dataframe tbody tr th {\n",
       "        vertical-align: top;\n",
       "    }\n",
       "\n",
       "    .dataframe thead th {\n",
       "        text-align: right;\n",
       "    }\n",
       "</style>\n",
       "<table border=\"1\" class=\"dataframe\">\n",
       "  <thead>\n",
       "    <tr style=\"text-align: right;\">\n",
       "      <th></th>\n",
       "      <th>feature</th>\n",
       "      <th>importance</th>\n",
       "    </tr>\n",
       "  </thead>\n",
       "  <tbody>\n",
       "    <tr>\n",
       "      <th>0</th>\n",
       "      <td>accommodates</td>\n",
       "      <td>0.207961</td>\n",
       "    </tr>\n",
       "    <tr>\n",
       "      <th>18</th>\n",
       "      <td>bathrooms</td>\n",
       "      <td>0.129928</td>\n",
       "    </tr>\n",
       "    <tr>\n",
       "      <th>293</th>\n",
       "      <td>rt_Private room</td>\n",
       "      <td>0.075205</td>\n",
       "    </tr>\n",
       "    <tr>\n",
       "      <th>14</th>\n",
       "      <td>availability_365</td>\n",
       "      <td>0.035167</td>\n",
       "    </tr>\n",
       "    <tr>\n",
       "      <th>15</th>\n",
       "      <td>number_of_reviews</td>\n",
       "      <td>0.035148</td>\n",
       "    </tr>\n",
       "    <tr>\n",
       "      <th>247</th>\n",
       "      <td>pt_Entire serviced apartment</td>\n",
       "      <td>0.032981</td>\n",
       "    </tr>\n",
       "    <tr>\n",
       "      <th>280</th>\n",
       "      <td>pt_Room in hotel</td>\n",
       "      <td>0.032807</td>\n",
       "    </tr>\n",
       "    <tr>\n",
       "      <th>6</th>\n",
       "      <td>maximum_minimum_nights</td>\n",
       "      <td>0.030803</td>\n",
       "    </tr>\n",
       "    <tr>\n",
       "      <th>7</th>\n",
       "      <td>minimum_maximum_nights</td>\n",
       "      <td>0.027580</td>\n",
       "    </tr>\n",
       "    <tr>\n",
       "      <th>1</th>\n",
       "      <td>bedrooms</td>\n",
       "      <td>0.024934</td>\n",
       "    </tr>\n",
       "    <tr>\n",
       "      <th>13</th>\n",
       "      <td>availability_90</td>\n",
       "      <td>0.023055</td>\n",
       "    </tr>\n",
       "    <tr>\n",
       "      <th>144</th>\n",
       "      <td>nbh_Midtown</td>\n",
       "      <td>0.021881</td>\n",
       "    </tr>\n",
       "    <tr>\n",
       "      <th>12</th>\n",
       "      <td>availability_60</td>\n",
       "      <td>0.020108</td>\n",
       "    </tr>\n",
       "    <tr>\n",
       "      <th>4</th>\n",
       "      <td>maximum_nights</td>\n",
       "      <td>0.018364</td>\n",
       "    </tr>\n",
       "    <tr>\n",
       "      <th>11</th>\n",
       "      <td>availability_30</td>\n",
       "      <td>0.016820</td>\n",
       "    </tr>\n",
       "  </tbody>\n",
       "</table>\n",
       "</div>"
      ],
      "text/plain": [
       "                          feature  importance\n",
       "0                    accommodates    0.207961\n",
       "18                      bathrooms    0.129928\n",
       "293               rt_Private room    0.075205\n",
       "14               availability_365    0.035167\n",
       "15              number_of_reviews    0.035148\n",
       "247  pt_Entire serviced apartment    0.032981\n",
       "280              pt_Room in hotel    0.032807\n",
       "6          maximum_minimum_nights    0.030803\n",
       "7          minimum_maximum_nights    0.027580\n",
       "1                        bedrooms    0.024934\n",
       "13                availability_90    0.023055\n",
       "144                   nbh_Midtown    0.021881\n",
       "12                availability_60    0.020108\n",
       "4                  maximum_nights    0.018364\n",
       "11                availability_30    0.016820"
      ]
     },
     "execution_count": 131,
     "metadata": {},
     "output_type": "execute_result"
    }
   ],
   "source": [
    "feature_importances.head(15)"
   ]
  },
  {
   "cell_type": "code",
   "execution_count": 130,
   "id": "66453a43",
   "metadata": {},
   "outputs": [
    {
     "data": {
      "image/png": "[encoded data removed]",
      "text/plain": [
       "<Figure size 640x480 with 1 Axes>"
      ]
     },
     "metadata": {},
     "output_type": "display_data"
    }
   ],
   "source": [
    "feature_importances = feature_importances.head(15)\n",
    "plt.barh(feature_importances[\"feature\"], feature_importances[\"importance\"])\n",
    "plt.title(\"Feature Importances\")\n",
    "plt.xlabel(\"Importance\")\n",
    "plt.show()"
   ]
  },
  {
   "cell_type": "code",
   "execution_count": 137,
   "id": "dbac5f5e",
   "metadata": {},
   "outputs": [
    {
     "data": {
      "image/png": "[encoded data removed]",
      "text/plain": [
       "<Figure size 640x480 with 1 Axes>"
      ]
     },
     "metadata": {},
     "output_type": "display_data"
    }
   ],
   "source": [
    "plt.scatter(y_test, y_pred, s= 10)\n",
    "plt.title(\"Regression Tree: predicted price vs actual price\")\n",
    "plt.xlabel(\"Actual price\")\n",
    "plt.ylabel(\"Predicted price\")\n",
    "plt.plot([0, 1000], [0,1000], color='red') \n",
    "plt.show()"
   ]
  },
  {
   "cell_type": "markdown",
   "id": "d7247078",
   "metadata": {},
   "source": [
    "## sentiment analysis"
   ]
  },
  {
   "cell_type": "code",
   "execution_count": 10,
   "id": "6bb854cc",
   "metadata": {},
   "outputs": [],
   "source": [
    "reviews = pd.read_csv(\"reviews_2.csv\")"
   ]
  },
  {
   "cell_type": "code",
   "execution_count": 11,
   "id": "ec08c537",
   "metadata": {},
   "outputs": [],
   "source": [
    "listings = pd.read_csv(\"listings.csv\")"
   ]
  },
  {
   "cell_type": "code",
   "execution_count": 12,
   "id": "29cb2a47",
   "metadata": {},
   "outputs": [],
   "source": [
    "pd.set_option('display.max_columns', None)"
   ]
  },
  {
   "cell_type": "code",
   "execution_count": 13,
   "id": "9140607a",
   "metadata": {},
   "outputs": [],
   "source": [
    "listings_df = listings[listings[\"number_of_reviews\"]>=100][[\"id\",\"review_scores_rating\"]]"
   ]
  },
  {
   "cell_type": "code",
   "execution_count": 14,
   "id": "79247585",
   "metadata": {},
   "outputs": [
    {
     "data": {
      "text/plain": [
       "id                      0\n",
       "review_scores_rating    0\n",
       "dtype: int64"
      ]
     },
     "execution_count": 14,
     "metadata": {},
     "output_type": "execute_result"
    }
   ],
   "source": [
    "listings_df.isna().sum()"
   ]
  },
  {
   "cell_type": "code",
   "execution_count": 15,
   "id": "9287b1d2",
   "metadata": {},
   "outputs": [
    {
     "data": {
      "text/plain": [
       "listing_id    0\n",
       "comments      0\n",
       "dtype: int64"
      ]
     },
     "execution_count": 15,
     "metadata": {},
     "output_type": "execute_result"
    }
   ],
   "source": [
    "reviews_df = reviews[[\"listing_id\",\"comments\"]].dropna()\n",
    "reviews_df.isna().sum()"
   ]
  },
  {
   "cell_type": "code",
   "execution_count": 16,
   "id": "14bec4e3",
   "metadata": {},
   "outputs": [],
   "source": [
    "df = listings_df.sample(n=800,replace=False).merge(reviews_df, left_on=\"id\",right_on=\"listing_id\",how=\"inner\")[[\"id\",\"review_scores_rating\",\"comments\"]]"
   ]
  },
  {
   "cell_type": "code",
   "execution_count": 17,
   "id": "948c4685",
   "metadata": {},
   "outputs": [
    {
     "data": {
      "text/html": [
       "<div>\n",
       "<style scoped>\n",
       "    .dataframe tbody tr th:only-of-type {\n",
       "        vertical-align: middle;\n",
       "    }\n",
       "\n",
       "    .dataframe tbody tr th {\n",
       "        vertical-align: top;\n",
       "    }\n",
       "\n",
       "    .dataframe thead th {\n",
       "        text-align: right;\n",
       "    }\n",
       "</style>\n",
       "<table border=\"1\" class=\"dataframe\">\n",
       "  <thead>\n",
       "    <tr style=\"text-align: right;\">\n",
       "      <th></th>\n",
       "      <th>id</th>\n",
       "      <th>review_scores_rating</th>\n",
       "      <th>comments</th>\n",
       "    </tr>\n",
       "  </thead>\n",
       "  <tbody>\n",
       "    <tr>\n",
       "      <th>0</th>\n",
       "      <td>18872858</td>\n",
       "      <td>4.76</td>\n",
       "      <td>Great host.I checked in later than expected Ch...</td>\n",
       "    </tr>\n",
       "    <tr>\n",
       "      <th>1</th>\n",
       "      <td>18872858</td>\n",
       "      <td>4.76</td>\n",
       "      <td>Charles is a very accommodating host. The hous...</td>\n",
       "    </tr>\n",
       "    <tr>\n",
       "      <th>2</th>\n",
       "      <td>18872858</td>\n",
       "      <td>4.76</td>\n",
       "      <td>Very friendly host! We had everything we neede...</td>\n",
       "    </tr>\n",
       "    <tr>\n",
       "      <th>3</th>\n",
       "      <td>18872858</td>\n",
       "      <td>4.76</td>\n",
       "      <td>The place and the value are amazing for visiti...</td>\n",
       "    </tr>\n",
       "    <tr>\n",
       "      <th>4</th>\n",
       "      <td>18872858</td>\n",
       "      <td>4.76</td>\n",
       "      <td>It is a great place really cozy, accessible to...</td>\n",
       "    </tr>\n",
       "    <tr>\n",
       "      <th>...</th>\n",
       "      <td>...</td>\n",
       "      <td>...</td>\n",
       "      <td>...</td>\n",
       "    </tr>\n",
       "    <tr>\n",
       "      <th>148323</th>\n",
       "      <td>20960203</td>\n",
       "      <td>4.95</td>\n",
       "      <td>Lovely place to stay with fantastic hosts.  I ...</td>\n",
       "    </tr>\n",
       "    <tr>\n",
       "      <th>148324</th>\n",
       "      <td>20960203</td>\n",
       "      <td>4.95</td>\n",
       "      <td>Tony’s place was wonderful and cozy. It was de...</td>\n",
       "    </tr>\n",
       "    <tr>\n",
       "      <th>148325</th>\n",
       "      <td>20960203</td>\n",
       "      <td>4.95</td>\n",
       "      <td>Accurate photos, description, clean, Tony is v...</td>\n",
       "    </tr>\n",
       "    <tr>\n",
       "      <th>148326</th>\n",
       "      <td>20960203</td>\n",
       "      <td>4.95</td>\n",
       "      <td>Great stay in a very quiet neighborhood. Very ...</td>\n",
       "    </tr>\n",
       "    <tr>\n",
       "      <th>148327</th>\n",
       "      <td>20960203</td>\n",
       "      <td>4.95</td>\n",
       "      <td>Excellent choix si vous voulez visiter Brookly...</td>\n",
       "    </tr>\n",
       "  </tbody>\n",
       "</table>\n",
       "<p>148328 rows × 3 columns</p>\n",
       "</div>"
      ],
      "text/plain": [
       "              id  review_scores_rating  \\\n",
       "0       18872858                  4.76   \n",
       "1       18872858                  4.76   \n",
       "2       18872858                  4.76   \n",
       "3       18872858                  4.76   \n",
       "4       18872858                  4.76   \n",
       "...          ...                   ...   \n",
       "148323  20960203                  4.95   \n",
       "148324  20960203                  4.95   \n",
       "148325  20960203                  4.95   \n",
       "148326  20960203                  4.95   \n",
       "148327  20960203                  4.95   \n",
       "\n",
       "                                                 comments  \n",
       "0       Great host.I checked in later than expected Ch...  \n",
       "1       Charles is a very accommodating host. The hous...  \n",
       "2       Very friendly host! We had everything we neede...  \n",
       "3       The place and the value are amazing for visiti...  \n",
       "4       It is a great place really cozy, accessible to...  \n",
       "...                                                   ...  \n",
       "148323  Lovely place to stay with fantastic hosts.  I ...  \n",
       "148324  Tony’s place was wonderful and cozy. It was de...  \n",
       "148325  Accurate photos, description, clean, Tony is v...  \n",
       "148326  Great stay in a very quiet neighborhood. Very ...  \n",
       "148327  Excellent choix si vous voulez visiter Brookly...  \n",
       "\n",
       "[148328 rows x 3 columns]"
      ]
     },
     "execution_count": 17,
     "metadata": {},
     "output_type": "execute_result"
    }
   ],
   "source": [
    "df"
   ]
  },
  {
   "cell_type": "code",
   "execution_count": 18,
   "id": "f0330d93",
   "metadata": {},
   "outputs": [],
   "source": [
    "from nltk.corpus import stopwords\n",
    "stop_words = set(stopwords.words('english'))"
   ]
  },
  {
   "cell_type": "code",
   "execution_count": 19,
   "id": "110826bc",
   "metadata": {},
   "outputs": [],
   "source": [
    "df['comments'] = df['comments'].str.lower()\n",
    "df['comments'] = df['comments'].str.replace('[^\\w\\s]','')\n",
    "df['comments'] = df['comments'].apply(lambda x: ' '.join([word for word in x.split() if word not in (stop_words)]))"
   ]
  },
  {
   "cell_type": "code",
   "execution_count": 20,
   "id": "00391854",
   "metadata": {},
   "outputs": [],
   "source": [
    "from langdetect import detect\n",
    "from textblob import TextBlob"
   ]
  },
  {
   "cell_type": "code",
   "execution_count": 21,
   "id": "544b9d8b",
   "metadata": {},
   "outputs": [],
   "source": [
    "def get_sentiment_score(comment):\n",
    "    blob = TextBlob(comment)\n",
    "    return blob.sentiment.polarity"
   ]
  },
  {
   "cell_type": "code",
   "execution_count": 22,
   "id": "dea85e91",
   "metadata": {},
   "outputs": [],
   "source": [
    "df['sentiment_score'] = df['comments'].apply(get_sentiment_score)"
   ]
  },
  {
   "cell_type": "code",
   "execution_count": 23,
   "id": "3d16c374",
   "metadata": {},
   "outputs": [],
   "source": [
    "df = df[df['sentiment_score'] != 0]"
   ]
  },
  {
   "cell_type": "code",
   "execution_count": 47,
   "id": "7e6e9fec",
   "metadata": {},
   "outputs": [],
   "source": [
    "pd.set_option('display.max_colwidth', None)"
   ]
  },
  {
   "cell_type": "code",
   "execution_count": 27,
   "id": "16643bf8",
   "metadata": {},
   "outputs": [
    {
     "data": {
      "text/plain": [
       "0.042931317828053574"
      ]
     },
     "execution_count": 27,
     "metadata": {},
     "output_type": "execute_result"
    }
   ],
   "source": [
    "df[\"sentiment_score\"].var()"
   ]
  },
  {
   "cell_type": "code",
   "execution_count": 29,
   "id": "9fa54a76",
   "metadata": {},
   "outputs": [
    {
     "name": "stdout",
     "output_type": "stream",
     "text": [
      "1.0 -1.0\n"
     ]
    }
   ],
   "source": [
    "print(df[\"sentiment_score\"].max(),df[\"sentiment_score\"].min())"
   ]
  },
  {
   "cell_type": "code",
   "execution_count": 64,
   "id": "ee44186f",
   "metadata": {},
   "outputs": [
    {
     "data": {
      "text/html": [
       "<div>\n",
       "<style scoped>\n",
       "    .dataframe tbody tr th:only-of-type {\n",
       "        vertical-align: middle;\n",
       "    }\n",
       "\n",
       "    .dataframe tbody tr th {\n",
       "        vertical-align: top;\n",
       "    }\n",
       "\n",
       "    .dataframe thead th {\n",
       "        text-align: right;\n",
       "    }\n",
       "</style>\n",
       "<table border=\"1\" class=\"dataframe\">\n",
       "  <thead>\n",
       "    <tr style=\"text-align: right;\">\n",
       "      <th></th>\n",
       "      <th>comments</th>\n",
       "      <th>sentiment_score</th>\n",
       "    </tr>\n",
       "  </thead>\n",
       "  <tbody>\n",
       "    <tr>\n",
       "      <th>55164</th>\n",
       "      <td>best place stay nyc</td>\n",
       "      <td>1.0</td>\n",
       "    </tr>\n",
       "    <tr>\n",
       "      <th>55125</th>\n",
       "      <td>excellent host recommend</td>\n",
       "      <td>1.0</td>\n",
       "    </tr>\n",
       "    <tr>\n",
       "      <th>55026</th>\n",
       "      <td>wonderful house area hosts five stars us</td>\n",
       "      <td>1.0</td>\n",
       "    </tr>\n",
       "    <tr>\n",
       "      <th>147941</th>\n",
       "      <td>great time thanks</td>\n",
       "      <td>0.5</td>\n",
       "    </tr>\n",
       "    <tr>\n",
       "      <th>148035</th>\n",
       "      <td>nice beds comfortable</td>\n",
       "      <td>0.5</td>\n",
       "    </tr>\n",
       "    <tr>\n",
       "      <th>140223</th>\n",
       "      <td>horrible</td>\n",
       "      <td>-1.0</td>\n",
       "    </tr>\n",
       "    <tr>\n",
       "      <th>46916</th>\n",
       "      <td>terrible stay</td>\n",
       "      <td>-1.0</td>\n",
       "    </tr>\n",
       "    <tr>\n",
       "      <th>9017</th>\n",
       "      <td>terrible</td>\n",
       "      <td>-1.0</td>\n",
       "    </tr>\n",
       "  </tbody>\n",
       "</table>\n",
       "</div>"
      ],
      "text/plain": [
       "                                        comments  sentiment_score\n",
       "55164                        best place stay nyc              1.0\n",
       "55125                   excellent host recommend              1.0\n",
       "55026   wonderful house area hosts five stars us              1.0\n",
       "147941                         great time thanks              0.5\n",
       "148035                     nice beds comfortable              0.5\n",
       "140223                                  horrible             -1.0\n",
       "46916                              terrible stay             -1.0\n",
       "9017                                    terrible             -1.0"
      ]
     },
     "execution_count": 64,
     "metadata": {},
     "output_type": "execute_result"
    }
   ],
   "source": [
    "df.loc[[55164,55125,55026,147941,148035,140223,46916,9017]][[\"comments\",\"sentiment_score\"]]"
   ]
  },
  {
   "cell_type": "code",
   "execution_count": 65,
   "id": "0a776fac",
   "metadata": {},
   "outputs": [
    {
     "data": {
      "text/html": [
       "<div>\n",
       "<style scoped>\n",
       "    .dataframe tbody tr th:only-of-type {\n",
       "        vertical-align: middle;\n",
       "    }\n",
       "\n",
       "    .dataframe tbody tr th {\n",
       "        vertical-align: top;\n",
       "    }\n",
       "\n",
       "    .dataframe thead th {\n",
       "        text-align: right;\n",
       "    }\n",
       "</style>\n",
       "<table border=\"1\" class=\"dataframe\">\n",
       "  <thead>\n",
       "    <tr style=\"text-align: right;\">\n",
       "      <th></th>\n",
       "      <th>id</th>\n",
       "      <th>review_scores_rating</th>\n",
       "      <th>comments</th>\n",
       "      <th>sentiment_score</th>\n",
       "    </tr>\n",
       "  </thead>\n",
       "  <tbody>\n",
       "    <tr>\n",
       "      <th>0</th>\n",
       "      <td>18872858</td>\n",
       "      <td>4.76</td>\n",
       "      <td>great hosti checked later expected charles great personcharles make stay wonderful experience</td>\n",
       "      <td>0.5</td>\n",
       "    </tr>\n",
       "    <tr>\n",
       "      <th>14</th>\n",
       "      <td>18872858</td>\n",
       "      <td>4.76</td>\n",
       "      <td>awesome owner accommodating apartment clean comfortable overall pleasant</td>\n",
       "      <td>0.5</td>\n",
       "    </tr>\n",
       "    <tr>\n",
       "      <th>24</th>\n",
       "      <td>18872858</td>\n",
       "      <td>4.76</td>\n",
       "      <td>one room top steep stairs noisey person</td>\n",
       "      <td>0.5</td>\n",
       "    </tr>\n",
       "    <tr>\n",
       "      <th>59</th>\n",
       "      <td>18872858</td>\n",
       "      <td>4.76</td>\n",
       "      <td>love staying charles place thats keep going back hes awesome host</td>\n",
       "      <td>0.5</td>\n",
       "    </tr>\n",
       "  </tbody>\n",
       "</table>\n",
       "</div>"
      ],
      "text/plain": [
       "          id  review_scores_rating  \\\n",
       "0   18872858                  4.76   \n",
       "14  18872858                  4.76   \n",
       "24  18872858                  4.76   \n",
       "59  18872858                  4.76   \n",
       "\n",
       "                                                                                         comments  \\\n",
       "0   great hosti checked later expected charles great personcharles make stay wonderful experience   \n",
       "14                       awesome owner accommodating apartment clean comfortable overall pleasant   \n",
       "24                                                        one room top steep stairs noisey person   \n",
       "59                              love staying charles place thats keep going back hes awesome host   \n",
       "\n",
       "    sentiment_score  \n",
       "0               0.5  \n",
       "14              0.5  \n",
       "24              0.5  \n",
       "59              0.5  "
      ]
     },
     "execution_count": 65,
     "metadata": {},
     "output_type": "execute_result"
    }
   ],
   "source": [
    "df[df[\"id\"] == 18872858][df[\"sentiment_score\"] == 0.5]"
   ]
  },
  {
   "cell_type": "code",
   "execution_count": 68,
   "id": "0f600e66",
   "metadata": {},
   "outputs": [
    {
     "data": {
      "text/plain": [
       "LinearRegression()"
      ]
     },
     "execution_count": 68,
     "metadata": {},
     "output_type": "execute_result"
    }
   ],
   "source": [
    "df_agg = df.groupby('id').agg({'review_scores_rating': 'mean', 'sentiment_score': 'mean'})\n",
    "\n",
    "# Split the data into training and testing sets\n",
    "X_train, X_test, y_train, y_test = train_test_split(df_agg['sentiment_score'], df_agg['review_scores_rating'], test_size=0.3, random_state=42)\n",
    "\n",
    "# Fit a linear regression model\n",
    "model = LinearRegression()\n",
    "model.fit(X_train.values.reshape(-1, 1), y_train)"
   ]
  },
  {
   "cell_type": "code",
   "execution_count": 70,
   "id": "3dc5b986",
   "metadata": {},
   "outputs": [
    {
     "name": "stdout",
     "output_type": "stream",
     "text": [
      "Mean squared error: 0.023362883457676675\n",
      "Mean absolute error: 0.12254433970071774\n"
     ]
    }
   ],
   "source": [
    "from sklearn.metrics import mean_absolute_error\n",
    "from sklearn.metrics import mean_squared_error\n",
    "# Predict on the test set and calculate mean squared error\n",
    "y_pred = model.predict(X_test.values.reshape(-1, 1))\n",
    "mse = mean_squared_error(y_test, y_pred)\n",
    "mae = mean_absolute_error(y_test,y_pred)\n",
    "print('Mean squared error:', mse)\n",
    "print(\"Mean absolute error:\",mae)"
   ]
  },
  {
   "cell_type": "code",
   "execution_count": 72,
   "id": "fbd99b27",
   "metadata": {},
   "outputs": [
    {
     "name": "stdout",
     "output_type": "stream",
     "text": [
      "0.16744502782629872 0.028072928504380423\n"
     ]
    }
   ],
   "source": [
    "print(np.std(df_agg.review_scores_rating),df_agg.review_scores_rating.var())"
   ]
  },
  {
   "cell_type": "code",
   "execution_count": 100,
   "id": "375fe488",
   "metadata": {},
   "outputs": [
    {
     "data": {
      "text/plain": [
       "<matplotlib.collections.PathCollection at 0x23f2a00b3d0>"
      ]
     },
     "execution_count": 100,
     "metadata": {},
     "output_type": "execute_result"
    },
    {
     "data": {
      "image/png": "[encoded data removed]",
      "text/plain": [
       "<Figure size 640x480 with 1 Axes>"
      ]
     },
     "metadata": {},
     "output_type": "display_data"
    }
   ],
   "source": [
    "plt.scatter(X_test,y_test-y_pred)"
   ]
  },
  {
   "cell_type": "code",
   "execution_count": 108,
   "id": "17814f7a",
   "metadata": {},
   "outputs": [
    {
     "data": {
      "image/png": "[encoded data removed]",
      "text/plain": [
       "<Figure size 640x480 with 1 Axes>"
      ]
     },
     "metadata": {},
     "output_type": "display_data"
    }
   ],
   "source": [
    "plt.hist(df['sentiment_score'], bins=15)\n",
    "plt.xlabel('Sentiment Score')\n",
    "plt.ylabel('Frequency')\n",
    "plt.title('Distribution of Sentiment Scores')\n",
    "plt.show()"
   ]
  },
  {
   "cell_type": "code",
   "execution_count": 107,
   "id": "f0d402fd",
   "metadata": {},
   "outputs": [
    {
     "data": {
      "text/plain": [
       "<matplotlib.collections.PathCollection at 0x23f5f2aa790>"
      ]
     },
     "execution_count": 107,
     "metadata": {},
     "output_type": "execute_result"
    },
    {
     "data": {
      "image/png": "[encoded data removed]",
      "text/plain": [
       "<Figure size 640x480 with 1 Axes>"
      ]
     },
     "metadata": {},
     "output_type": "display_data"
    }
   ],
   "source": [
    "plt.scatter(df_agg[\"sentiment_score\"],df_agg[\"review_scores_rating\"])"
   ]
  }
 ],
 "metadata": {
  "kernelspec": {
   "display_name": "Python 3 (ipykernel)",
   "language": "python",
   "name": "python3"
  },
  "language_info": {
   "codemirror_mode": {
    "name": "ipython",
    "version": 3
   },
   "file_extension": ".py",
   "mimetype": "text/x-python",
   "name": "python",
   "nbconvert_exporter": "python",
   "pygments_lexer": "ipython3",
   "version": "3.9.13"
  }
 },
 "nbformat": 4,
 "nbformat_minor": 5
}
